{
  "nbformat": 4,
  "nbformat_minor": 0,
  "metadata": {
    "colab": {
      "name": "Untitled0.ipynb",
      "provenance": [],
      "authorship_tag": "ABX9TyMDCGkMZYLAyjOCyJgnN1iC",
      "include_colab_link": true
    },
    "kernelspec": {
      "name": "python3",
      "display_name": "Python 3"
    }
  },
  "cells": [
    {
      "cell_type": "markdown",
      "metadata": {
        "id": "view-in-github",
        "colab_type": "text"
      },
      "source": [
        "<a href=\"https://colab.research.google.com/github/Mikeswann21/Python_Variables/blob/master/numbers%20fundamentals.ipynb\" target=\"_parent\"><img src=\"https://colab.research.google.com/assets/colab-badge.svg\" alt=\"Open In Colab\"/></a>"
      ]
    },
    {
      "cell_type": "code",
      "metadata": {
        "id": "P4roudFM8SFl",
        "colab_type": "code",
        "colab": {}
      },
      "source": [
        ""
      ],
      "execution_count": 0,
      "outputs": []
    },
    {
      "cell_type": "markdown",
      "metadata": {
        "id": "XfX63mBkzMW2",
        "colab_type": "text"
      },
      "source": [
        "Integer = Number\n",
        "\n",
        "Float = numbers with decimals\n",
        "\n",
        "String = Sequence of characters\n",
        "\n",
        "Objects = All Characters (Objects and Characters have become synonyms)\n",
        "\n",
        "list = a sequence of objects or strings\n",
        "\n",
        "brackets = make it a list [means you can change value within variable]\n",
        "\n",
        "tupel = parantheses(meaning you can not change values within variable unless you recreate variable aka immutable)\n",
        "\n",
        "Mean = Average of values\n",
        "\n",
        "STD = Standard Deviation\n",
        "\n",
        "Features = Column Names\n",
        "\n",
        "Sets = Unordered Collections\n",
        "\n",
        "Min = Minimum Column\n",
        "\n",
        "Max = Maximum Column Values\n",
        "\n",
        "One Hot Encoding = Converts text and strings to numbers for Machine Learning\n",
        "\n",
        "Attributes = Data within Rows of the Features\n",
        "\n",
        "Scipy = Solves High Level Math Equations\n",
        "\n",
        "Numpy = helps Python perform fast mathematical operations\n",
        "\n",
        "Pandas = Python Library to easy indexing\n",
        "\n",
        "Mode = Values that appears most often\n",
        "\n",
        "Median = Middle Value of Data\n",
        "\n"
      ]
    },
    {
      "cell_type": "code",
      "metadata": {
        "id": "qG-2L8DK2Spj",
        "colab_type": "code",
        "colab": {
          "base_uri": "https://localhost:8080/",
          "height": 238
        },
        "outputId": "92a6d411-d9c0-4172-d4ca-05ae094b4957"
      },
      "source": [
        "print(78/6)\n",
        "print(8*97)\n",
        "print(12039 - 9278)\n",
        "print(76738 + 278)\n",
        "\n",
        "m = 5\n",
        "s = 8\n",
        "\n",
        "print('Sum =', m+s)\n",
        "print('Quotient =', m/s)\n",
        "print('Product =', m*s)\n",
        "print('Difference =', m-s)\n",
        "print('Exponent =', m**s)\n",
        "\n",
        "# Here is an example of a determinant funtion. It takes an input\n",
        "# and maps it onto a single return value. Everytime you call this\n",
        "# function with the same input you'll getthe same output\n",
        "\n",
        "def square_it(number):\n",
        "  return number ** 2\n",
        "\n",
        "square_it(5)\n",
        "\n",
        "cigar_count = int(input('How many cigars are in the box?'))\n",
        "\n",
        "print('There are {} cigars in the box'.format(cigar_count))\n",
        "\n",
        "if input ('Would you like to buy any?') == ('yes'):\n",
        "  removed_cigars = int(input('Ok, how many?'))\n",
        "\n",
        "  cigar_count = cigar_count - removed_cigars\n",
        "\n",
        "  print('There are now {} cigars in the box, thanks for shopping!'.format(cigar_count))\n",
        "\n",
        "else: \n",
        "  print('Ok, thanks for considering shopping with us'.format(cigar_count))"
      ],
      "execution_count": 20,
      "outputs": [
        {
          "output_type": "stream",
          "text": [
            "13.0\n",
            "776\n",
            "2761\n",
            "77016\n",
            "Sum = 13\n",
            "Quotient = 0.625\n",
            "Product = 40\n",
            "Difference = -3\n",
            "Exponent = 390625\n",
            "How many cigars are in the box?44\n",
            "There are 44 cigars in the box\n",
            "Would you like to buy any?Yes\n",
            "Ok, thanks for considering shopping with us\n"
          ],
          "name": "stdout"
        }
      ]
    }
  ]
}